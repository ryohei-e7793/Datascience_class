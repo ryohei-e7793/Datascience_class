{
 "cells": [
  {
   "cell_type": "code",
   "execution_count": 2,
   "metadata": {},
   "outputs": [],
   "source": [
    "%matplotlib inline\n",
    "\n",
    "import matplotlib.pyplot as plt\n",
    "import numpy as np\n",
    "\n",
    "from PIL import Image"
   ]
  },
  {
   "cell_type": "code",
   "execution_count": 3,
   "metadata": {},
   "outputs": [],
   "source": [
    "import glob\n",
    "from chainer import datasets\n",
    "\n",
    "def create_dataset(img_filenames, label_filenames):\n",
    "    img = datasets.ImageDataset(img_filenames)\n",
    "    img = datasets.TransformDataset(img, lambda x: x / 255.)  # 0-1に正規化\n",
    "    label = datasets.ImageDataset(label_filenames, dtype=np.int32)\n",
    "    dataset = datasets.TupleDataset(img, label)\n",
    "    return dataset"
   ]
  },
  {
   "cell_type": "code",
   "execution_count": 4,
   "metadata": {},
   "outputs": [],
   "source": [
    "def create_datasets():\n",
    "    # Python標準のglobを使ってMRI画像ファイル名/ラベル画像ファイル名の一覧を取得\n",
    "    train_img_filenames = sorted(glob.glob('../../Class/BraTS2020_png_training/Flair/*.png'))\n",
    "    train_label_filenames = sorted(glob.glob('../../Class/BraTS2020_png_training/Seg/*.png'))\n",
    "\n",
    "    # リストを渡して，データセットオブジェクト train を作成\n",
    "    train = create_dataset(train_img_filenames, train_label_filenames)\n",
    "\n",
    "    # 同様のことをvalidationデータに対しても行う\n",
    "    val_img_filenames = sorted(glob.glob('../../Class/BraTS2020_png_validation/Flair/*.png'))\n",
    "    val_label_filenames = sorted(glob.glob('../../Class/BraTS2020_png_validation/Seg/*.png'))\n",
    "    val = create_dataset(val_img_filenames, val_label_filenames)\n",
    "\n",
    "    return train, val"
   ]
  },
  {
   "cell_type": "code",
   "execution_count": 5,
   "metadata": {},
   "outputs": [
    {
     "name": "stdout",
     "output_type": "stream",
     "text": [
      "Dataset size:\n",
      "\ttrain:\t7750\n",
      "\tvalid:\t1550\n"
     ]
    }
   ],
   "source": [
    "train, val = create_datasets()\n",
    "\n",
    "print('Dataset size:\\n\\ttrain:\\t{}\\n\\tvalid:\\t{}'.format(len(train), len(val)))"
   ]
  },
  {
   "cell_type": "code",
   "execution_count": 6,
   "metadata": {},
   "outputs": [],
   "source": [
    "import chainer\n",
    "import chainer.functions as F\n",
    "import chainer.links as L\n",
    "\n",
    "class MultiLayerPerceptron(chainer.Chain):\n",
    "\n",
    "    def __init__(self, out_h, out_w):\n",
    "        super().__init__()\n",
    "        with self.init_scope():\n",
    "            self.l1 = L.Linear(None, 100)\n",
    "            self.l2 = L.Linear(100, 100)\n",
    "            self.l3 = L.Linear(100, out_h * out_w)\n",
    "        self.out_h = out_h\n",
    "        self.out_w = out_w\n",
    "\n",
    "    def forward(self, x):\n",
    "        h = F.relu(self.l1(x))\n",
    "        h = F.relu(self.l2(h))\n",
    "        h = self.l3(h)\n",
    "        n = x.shape[0]\n",
    "\n",
    "        return h.reshape((n, 1, self.out_h, self.out_w))"
   ]
  },
  {
   "cell_type": "code",
   "execution_count": 7,
   "metadata": {},
   "outputs": [],
   "source": [
    "from chainer import iterators\n",
    "from chainer import training\n",
    "from chainer import optimizers\n",
    "from chainer.training import extensions\n",
    "\n",
    "def create_trainer(batchsize, train, val, stop, device=-1):\n",
    "    # 先程定義したモデルを使用\n",
    "    model = MultiLayerPerceptron(out_h=240, out_w=240)\n",
    "\n",
    "    # ピクセルごとの二値分類なので，目的関数にSigmoid cross entropyを，\n",
    "    # 精度をはかる関数としてBinary accuracyを指定しています\n",
    "    train_model = L.Classifier(\n",
    "        model, lossfun=F.sigmoid_cross_entropy, accfun=F.binary_accuracy)\n",
    "\n",
    "    # 最適化手法にAdamを使います\n",
    "    optimizer = optimizers.Adam()\n",
    "    optimizer.setup(train_model)\n",
    "\n",
    "    # データセットから，指定したバッチサイズ数のデータ点をまとめて取り出して返すイテレータを定義します\n",
    "    train_iter = iterators.MultiprocessIterator(train, batchsize)\n",
    "    val_iter = iterators.MultiprocessIterator(val, batchsize, repeat=False, shuffle=False)\n",
    "\n",
    "    # イテレータからデータを引き出し，モデルに渡して，目的関数の値を計算し，backwardしてパラメータを更新，\n",
    "    # までの一連の処理を行う updater を定義します\n",
    "    updater = training.StandardUpdater(train_iter, optimizer, device=device)\n",
    "\n",
    "    # 様々な付加機能をExtensionとして与えられるTrainerを使います\n",
    "    trainer = training.trainer.Trainer(updater, stop)\n",
    "\n",
    "    logging_attributes = [\n",
    "        'epoch', 'main/loss', 'main/accuracy', 'val/main/loss', 'val/main/accuracy']\n",
    "    trainer.extend(extensions.LogReport(logging_attributes))\n",
    "    trainer.extend(extensions.PrintReport(logging_attributes))\n",
    "    trainer.extend(extensions.PlotReport(['main/loss', 'val/main/loss'], 'epoch', file_name='loss.png'))\n",
    "    trainer.extend(extensions.PlotReport(['main/accuracy', 'val/main/accuracy'], 'epoch', file_name='accuracy.png'))\n",
    "    trainer.extend(extensions.Evaluator(val_iter, optimizer.target, device=device), name='val')\n",
    "\n",
    "    return trainer"
   ]
  },
  {
   "cell_type": "code",
   "execution_count": 8,
   "metadata": {},
   "outputs": [
    {
     "name": "stdout",
     "output_type": "stream",
     "text": [
      "epoch       main/loss   main/accuracy  val/main/loss  val/main/accuracy\n",
      "\u001b[J1           0.241731    0.926807       0.111054       0.989992           \n",
      "\u001b[J2           0.0529451   0.987766       0.116195       0.980848           \n",
      "\u001b[J3           -0.0541908  0.981741       0.576643       0.971799           \n",
      "\u001b[J4           -0.486593   0.980112       2.59789        0.971015           \n",
      "\u001b[J5           -2.05253    0.979834       8.39665        0.970467           \n",
      "\u001b[J6           -5.94467    0.979764       20.8975        0.967874           \n",
      "\u001b[J7           -13.3938    0.979624       43.0662        0.972274           \n",
      "\u001b[J8           -25.9288    0.979682       75.8775        0.970356           \n",
      "\u001b[J9           -44.2025    0.979368       125.396        0.970832           \n",
      "\u001b[J10          -70.1113    0.979233       191.911        0.968365           \n",
      "\u001b[J11          -104.902    0.979144       280.712        0.970633           \n",
      "\u001b[J12          -144.93     0.979033       387.819        0.969262           \n",
      "\u001b[J13          -201.493    0.97879        529.18         0.969328           \n",
      "\u001b[J14          -264.675    0.97881        675.979        0.969661           \n",
      "\u001b[J15          -338.233    0.97868        856.396        0.969912           \n",
      "\u001b[J16          -423.351    0.978667       1081.97        0.97003            \n",
      "\u001b[J17          -524.491    0.978608       1318.02        0.969044           \n",
      "\u001b[J18          -632.177    0.978572       1573.89        0.968123           \n",
      "\u001b[J19          -759.742    0.978485       1865.81        0.968309           \n",
      "\u001b[J20          -894.303    0.978456       2194.34        0.968967           \n"
     ]
    }
   ],
   "source": [
    "trainer = create_trainer(64, train, val, (20, 'epoch'), device =-1)\n",
    "trainer.run()"
   ]
  },
  {
   "cell_type": "code",
   "execution_count": 9,
   "metadata": {},
   "outputs": [
    {
     "data": {
      "image/png": "[encoded data removed]",
      "text/plain": [
       "<IPython.core.display.Image object>"
      ]
     },
     "execution_count": 9,
     "metadata": {},
     "output_type": "execute_result"
    }
   ],
   "source": [
    "from IPython.display import Image\n",
    "Image('result/loss.png')"
   ]
  },
  {
   "cell_type": "code",
   "execution_count": 10,
   "metadata": {},
   "outputs": [
    {
     "data": {
      "image/png": "[encoded data removed]",
      "text/plain": [
       "<IPython.core.display.Image object>"
      ]
     },
     "execution_count": 10,
     "metadata": {},
     "output_type": "execute_result"
    }
   ],
   "source": [
    "Image('result/accuracy.png')"
   ]
  },
  {
   "cell_type": "code",
   "execution_count": 11,
   "metadata": {},
   "outputs": [
    {
     "name": "stdout",
     "output_type": "stream",
     "text": [
      "Pixel Accuracy: 0.9685658826164875\n",
      "mIoU: 0.24520513153457155\n"
     ]
    },
    {
     "name": "stderr",
     "output_type": "stream",
     "text": [
      "/anaconda3/lib/python3.7/site-packages/chainercv/evaluations/eval_semantic_segmentation.py:91: RuntimeWarning: invalid value encountered in true_divide\n",
      "  iou = np.diag(confusion) / iou_denominator\n",
      "/anaconda3/lib/python3.7/site-packages/chainercv/evaluations/eval_semantic_segmentation.py:168: RuntimeWarning: invalid value encountered in true_divide\n",
      "  class_accuracy = np.diag(confusion) / np.sum(confusion, axis=1)\n"
     ]
    }
   ],
   "source": [
    "from chainer import cuda\n",
    "from chainercv import evaluations\n",
    "\n",
    "\n",
    "def evaluate(trainer, val, device=-1):\n",
    "    # Trainerオブジェクトから学習済みモデルを取り出す\n",
    "    model = trainer.updater.get_optimizer('main').target.predictor\n",
    "     # validationデータ全部に対して予測を行う\n",
    "    preds = []\n",
    "    for img, label in val:\n",
    "        pred = model(img[np.newaxis])\n",
    "        pred = pred.data[0, 0] > 0\n",
    "        preds.append((pred, label[0]))\n",
    "    pred_labels, gt_labels = zip(*preds)\n",
    "\n",
    "    # 評価をして結果を表示\n",
    "    evals = evaluations.eval_semantic_segmentation(pred_labels, gt_labels)\n",
    "    print('Pixel Accuracy:', evals['pixel_accuracy'])\n",
    "    print('mIoU:', evals['miou'])\n",
    "\n",
    "evaluate(trainer, val, device =0)\n"
   ]
  },
  {
   "cell_type": "code",
   "execution_count": 15,
   "metadata": {},
   "outputs": [
    {
     "name": "stdout",
     "output_type": "stream",
     "text": [
      "(256, 256)\n"
     ]
    }
   ],
   "source": [
    "# 全畳み込みネットワーク\n",
    "from chainer import reporter\n",
    "from chainer import cuda\n",
    "from chainercv import evaluations\n",
    "\n",
    "\n",
    "class FullyConvolutionalNetwork(chainer.Chain):\n",
    "\n",
    "    def __init__(self, out_h, out_w, n_class=1):\n",
    "        super().__init__()\n",
    "        with self.init_scope():\n",
    "            # L.Convolution2D(in_ch, out_ch, ksize, stride, pad)\n",
    "            # in_chは省略することができるので，\n",
    "            # L.Convolution2D(out_ch, ksize, stride, pad)\n",
    "            # とかくこともできます．\n",
    "            self.conv1 = L.Convolution2D(None, 64, ksize=5, stride=2, pad=2)\n",
    "            self.conv2 = L.Convolution2D(None, 128, ksize=5, stride=2, pad=2)\n",
    "            self.conv3 = L.Convolution2D(None, 128, ksize=3, stride=1, pad=1)\n",
    "            self.conv4 = L.Convolution2D(None, 128, ksize=3, stride=1, pad=1)\n",
    "            self.conv5 = L.Convolution2D(None, 128, ksize=1, stride=1, pad=0)\n",
    "            # L.Deconvolution2D(in_ch, out_ch, ksize, stride, pad)\n",
    "            # in_chは省略することができるので，\n",
    "            # L.Deconvolution2D(out_ch, ksize, stride, pad)\n",
    "            # と書くこともできます．\n",
    "            self.deconv6 = L.Deconvolution2D(None, n_class, ksize=32, stride=16, pad=8)\n",
    "        self.out_h = out_h\n",
    "        self.out_w = out_w\n",
    "\n",
    "    def forward(self, x):\n",
    "        h = F.relu(self.conv1(x))\n",
    "        h = F.max_pooling_2d(h, 2, 2)\n",
    "\n",
    "        h = F.relu(self.conv2(h))\n",
    "        h = F.max_pooling_2d(h, 2, 2)\n",
    "\n",
    "        h = F.relu(self.conv3(h))\n",
    "        h = F.relu(self.conv4(h))\n",
    "        h = self.conv5(h)\n",
    "        h = self.deconv6(h)\n",
    "\n",
    "        return h.reshape(x.shape[0], 1, h.shape[2], h.shape[3])\n",
    "\n",
    "print(FullyConvolutionalNetwork(256, 256)(np.zeros((1, 1, 256, 256), dtype=np.float32)).shape[2:])"
   ]
  },
  {
   "cell_type": "code",
   "execution_count": 16,
   "metadata": {},
   "outputs": [],
   "source": [
    "class PixelwiseSigmoidClassifier(chainer.Chain):\n",
    "\n",
    "    def __init__(self, predictor):\n",
    "        super().__init__()\n",
    "        with self.init_scope():\n",
    "            # 学習対象のモデルをpredictorとして保持しておく\n",
    "            self.predictor = predictor\n",
    "\n",
    "    def __call__(self, x, t):\n",
    "        # 学習対象のモデルでまず推論を行う\n",
    "        y = self.predictor(x)\n",
    "\n",
    "        # 2クラス分類の誤差を計算\n",
    "        loss = F.sigmoid_cross_entropy(y, t)\n",
    "\n",
    "        # 予測結果（0~1の連続値を持つグレースケール画像）を二値化し，\n",
    "        # ChainerCVのeval_semantic_segmentation関数に正解ラベルと\n",
    "        # 共に渡して各種スコアを計算\n",
    "        y, t = cuda.to_cpu(F.sigmoid(y).data), cuda.to_cpu(t)\n",
    "        y = np.asarray(y > 0.5, dtype=np.int32)\n",
    "        y, t = y[:, 0, ...], t[:, 0, ...]\n",
    "        evals = evaluations.eval_semantic_segmentation(y, t)\n",
    "\n",
    "        # 学習中のログに出力\n",
    "        reporter.report({'loss': loss,\n",
    "                         'miou': evals['miou'],\n",
    "                         'pa': evals['pixel_accuracy']}, self)\n",
    "        return loss"
   ]
  },
  {
   "cell_type": "code",
   "execution_count": 17,
   "metadata": {},
   "outputs": [],
   "source": [
    "def create_trainer(batchsize, train, val, stop, device=-1, log_trigger=(1, 'epoch')):\n",
    "    model = FullyConvolutionalNetwork(out_h=256, out_w=256)\n",
    "    train_model = PixelwiseSigmoidClassifier(model)\n",
    "\n",
    "    optimizer = optimizers.Adam(eps=1e-05)\n",
    "    optimizer.setup(train_model)\n",
    "\n",
    "    train_iter = iterators.MultiprocessIterator(train, batchsize)\n",
    "    val_iter = iterators.MultiprocessIterator(val, batchsize, repeat=False, shuffle=False)\n",
    "\n",
    "    updater = training.StandardUpdater(train_iter, optimizer, device=device)\n",
    "\n",
    "    trainer = training.trainer.Trainer(updater, stop, out='result_fcn')\n",
    "\n",
    "    logging_attributes = [\n",
    "        'epoch', 'main/loss', 'main/miou', 'main/pa',\n",
    "        'val/main/loss', 'val/main/miou', 'val/main/pa']\n",
    "    trainer.extend(extensions.LogReport(logging_attributes), trigger=log_trigger)\n",
    "    trainer.extend(extensions.PrintReport(logging_attributes), trigger=log_trigger)\n",
    "    trainer.extend(extensions.PlotReport(['main/loss', 'val/main/loss'], 'epoch', file_name='loss.png'))\n",
    "    trainer.extend(extensions.PlotReport(['main/miou', 'val/main/miou'], 'epoch', file_name='miou.png'))\n",
    "    trainer.extend(extensions.PlotReport(['main/pa', 'val/main/pa'], 'epoch', file_name='pa.png'))\n",
    "    trainer.extend(extensions.Evaluator(val_iter, train_model, device=device), name='val')\n",
    "    trainer.extend(extensions.dump_graph('main/loss'))\n",
    "    return trainer"
   ]
  },
  {
   "cell_type": "code",
   "execution_count": null,
   "metadata": {},
   "outputs": [
    {
     "name": "stderr",
     "output_type": "stream",
     "text": [
      "/anaconda3/lib/python3.7/site-packages/chainercv/evaluations/eval_semantic_segmentation.py:91: RuntimeWarning: invalid value encountered in true_divide\n",
      "  iou = np.diag(confusion) / iou_denominator\n",
      "/anaconda3/lib/python3.7/site-packages/chainercv/evaluations/eval_semantic_segmentation.py:168: RuntimeWarning: invalid value encountered in true_divide\n",
      "  class_accuracy = np.diag(confusion) / np.sum(confusion, axis=1)\n",
      "/anaconda3/lib/python3.7/site-packages/chainercv/evaluations/eval_semantic_segmentation.py:91: RuntimeWarning: invalid value encountered in true_divide\n",
      "  iou = np.diag(confusion) / iou_denominator\n",
      "/anaconda3/lib/python3.7/site-packages/chainercv/evaluations/eval_semantic_segmentation.py:168: RuntimeWarning: invalid value encountered in true_divide\n",
      "  class_accuracy = np.diag(confusion) / np.sum(confusion, axis=1)\n"
     ]
    },
    {
     "name": "stdout",
     "output_type": "stream",
     "text": [
      "epoch       main/loss   main/miou   main/pa     val/main/loss  val/main/miou  val/main/pa\n",
      "\u001b[J10          -1.81655e+08  0.265334    0.98117     4.77e+08       0.30392        0.974577     \n",
      "\u001b[J20          -4.22445e+10  0.257289    0.973537    1.13046e+11    0.301912       0.966464     \n",
      "\u001b[J30          -3.64283e+11  0.264535    0.983512    1.7213e+12     0.303763       0.973843     \n",
      "\u001b[J40          -2.42476e+12  0.260508    0.979846    9.98078e+12    0.303054       0.971009     \n",
      "\u001b[J50          -1.33033e+13  0.262625    0.976679    3.58196e+13    0.30323        0.971789     \n",
      "\u001b[J60          -2.99221e+13  0.262524    0.983417    9.69319e+13    0.303362       0.972248     \n",
      "\u001b[J70          -9.05699e+13  0.263486    0.978126    2.15487e+14    0.302941       0.970622     \n",
      "\u001b[J80          -1.46231e+14  0.267554    0.978887    4.26546e+14    0.303058       0.97103      \n",
      "\u001b[J90          -2.95467e+14  0.263113    0.979988    7.73341e+14    0.303164       0.971468     \n",
      "\u001b[J100         -3.57009e+14  0.263741    0.979394    1.32636e+15    0.302892       0.970518     \n",
      "\u001b[J110         -6.86142e+14  0.256561    0.977806    2.14712e+15    0.302795       0.970026     \n",
      "\u001b[J120         -1.32378e+15  0.260657    0.978194    3.27173e+15    0.303156       0.971469     \n"
     ]
    }
   ],
   "source": [
    "%%time\n",
    "trainer = create_trainer(128, train, val, (200, 'epoch'), device=-1, log_trigger=(10, 'epoch'))\n",
    "trainer.run()"
   ]
  },
  {
   "cell_type": "code",
   "execution_count": null,
   "metadata": {},
   "outputs": [],
   "source": []
  }
 ],
 "metadata": {
  "kernelspec": {
   "display_name": "Python 3",
   "language": "python",
   "name": "python3"
  },
  "language_info": {
   "codemirror_mode": {
    "name": "ipython",
    "version": 3
   },
   "file_extension": ".py",
   "mimetype": "text/x-python",
   "name": "python",
   "nbconvert_exporter": "python",
   "pygments_lexer": "ipython3",
   "version": "3.7.2"
  }
 },
 "nbformat": 4,
 "nbformat_minor": 2
}
