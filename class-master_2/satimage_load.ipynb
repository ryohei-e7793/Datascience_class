{
 "cells": [
  {
   "cell_type": "code",
   "execution_count": 3,
   "metadata": {},
   "outputs": [
    {
     "data": {
      "text/plain": [
       "{'data': array([[ 92., 115., 120., ..., 107., 113.,  87.],\n",
       "        [ 84., 102., 106., ...,  99., 104.,  79.],\n",
       "        [ 84., 102., 102., ...,  99., 104.,  79.],\n",
       "        ...,\n",
       "        [ 56.,  68.,  91., ...,  83.,  92.,  74.],\n",
       "        [ 56.,  68.,  87., ...,  83.,  92.,  70.],\n",
       "        [ 60.,  71.,  91., ...,  79., 108.,  92.]]),\n",
       " 'target': array([-1, -1, -1, ..., -1, -1, -1]),\n",
       " 'DESCR': 'satimage'}"
      ]
     },
     "execution_count": 3,
     "metadata": {},
     "output_type": "execute_result"
    }
   ],
   "source": [
    "import imblearn\n",
    "import imblearn.datasets\n",
    "imblearn.datasets.fetch_datasets()['satimage']"
   ]
  },
  {
   "cell_type": "code",
   "execution_count": null,
   "metadata": {},
   "outputs": [],
   "source": []
  }
 ],
 "metadata": {
  "kernelspec": {
   "display_name": "Python 3",
   "language": "python",
   "name": "python3"
  },
  "language_info": {
   "codemirror_mode": {
    "name": "ipython",
    "version": 3
   },
   "file_extension": ".py",
   "mimetype": "text/x-python",
   "name": "python",
   "nbconvert_exporter": "python",
   "pygments_lexer": "ipython3",
   "version": "3.6.9"
  }
 },
 "nbformat": 4,
 "nbformat_minor": 2
}
