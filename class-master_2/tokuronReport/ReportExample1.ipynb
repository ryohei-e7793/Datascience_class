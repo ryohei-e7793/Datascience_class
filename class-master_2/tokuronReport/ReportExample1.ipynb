{
 "cells": [
  {
   "cell_type": "markdown",
   "metadata": {},
   "source": [
    "## 深層学習特論レポート\n",
    "\n",
    "氏名: 大北 \n",
    "学生番号: 20670000  \n",
    "\n",
    "paper with codeの分類: (Representation Learning)  \n",
    "論文のURL: (どこどこのURL)  \n",
    "githubのURL: (github.com/tsuyoshi-okita/class/Skipgram.ipynb)  \n",
    "deep learning libraryの枠組み: kerasでtensorflow backend   \n",
    "\n",
    "(jupyterで改行を行なうには, 文末にスペースを2つ入れます)\n",
    "\n",
    "以下の例はpaper with codeのコードではないので, 上記の分類とgithubのURLでは\n",
    "ありませんが, みなさんのレポートではここに該当する論文のURLやgithubのURLを\n",
    "paper with codeから書いてください.\n"
   ]
  },
  {
   "cell_type": "markdown",
   "metadata": {},
   "source": [
    "## モデルのサマリ\n",
    "\n",
    "ここではSkipGramのコードのサマリを以下のようにして表示させました.\n",
    "\n",
    "ここでポイントはオリジナルコードにはありませんが、vocab_inputを入力させるためにXtrainとYtrainを定義した部分です. これによりsummaryが出力できました。\n"
   ]
  },
  {
   "cell_type": "code",
   "execution_count": 10,
   "metadata": {},
   "outputs": [
    {
     "name": "stdout",
     "output_type": "stream",
     "text": [
      "Model: \"sequential_1\"\n",
      "_________________________________________________________________\n",
      "Layer (type)                 Output Shape              Param #   \n",
      "=================================================================\n",
      "dense_1 (Dense)              (None, 300)               900       \n",
      "_________________________________________________________________\n",
      "activation_1 (Activation)    (None, 300)               0         \n",
      "_________________________________________________________________\n",
      "dropout_1 (Dropout)          (None, 300)               0         \n",
      "_________________________________________________________________\n",
      "dense_2 (Dense)              (None, 3)                 903       \n",
      "_________________________________________________________________\n",
      "activation_2 (Activation)    (None, 3)                 0         \n",
      "=================================================================\n",
      "Total params: 1,803\n",
      "Trainable params: 1,803\n",
      "Non-trainable params: 0\n",
      "_________________________________________________________________\n"
     ]
    }
   ],
   "source": [
    "%matplotlib inline\n",
    "from keras.models import Sequential\n",
    "from keras.layers.core import Dense, Dropout, Activation\n",
    "from keras.preprocessing.text import Tokenizer, one_hot\n",
    "from sklearn.metrics.pairwise import cosine_distances\n",
    "from sklearn.model_selection import train_test_split\n",
    "from sklearn.preprocessing import OneHotEncoder\n",
    "import matplotlib.pyplot as plt\n",
    "import nltk\n",
    "import numpy as np\n",
    "#import operator\n",
    "import codecs\n",
    "\n",
    "Xtrain= np.array([[1.,0.],[1.,0.]])\n",
    "Ytrain = np.array([[1.,0.,0.],[0.,0.,1.]])\n",
    "                   \n",
    "vocab_input=Xtrain.shape[1]\n",
    "vocab_output=Ytrain.shape[1]\n",
    "\n",
    "model = Sequential()\n",
    "model.add(Dense(300, input_shape=(vocab_input,)))\n",
    "#model.add(Dense(10, input_shape=(vocab_input,)))\n",
    "model.add(Activation(\"relu\"))\n",
    "model.add(Dropout(0.3))\n",
    "model.add(Dense(vocab_output))\n",
    "model.add(Activation(\"softmax\"))\n",
    "\n",
    "model.compile(optimizer=\"adam\", loss=\"categorical_crossentropy\",\n",
    "              metrics=[\"accuracy\"])\n",
    "model.summary()"
   ]
  },
  {
   "cell_type": "markdown",
   "metadata": {},
   "source": [
    "## 簡単な入力データの例\n",
    "\n",
    "以下のような形で, 'this is an example sentence.'という文を用いた簡単な例として,   \n",
    "Xtrain=[[1. 0.]  \n",
    " [1. 0.]]  \n",
    "Ytrain=[[1. 0. 0.]  \n",
    " [0. 0. 1.]]  \n",
    "という設定を行なった."
   ]
  },
  {
   "cell_type": "code",
   "execution_count": 4,
   "metadata": {},
   "outputs": [
    {
     "name": "stdout",
     "output_type": "stream",
     "text": [
      "this is an example sentence.\r\n"
     ]
    }
   ],
   "source": [
    "!cat sampleText.txt"
   ]
  },
  {
   "cell_type": "code",
   "execution_count": 16,
   "metadata": {},
   "outputs": [
    {
     "name": "stdout",
     "output_type": "stream",
     "text": [
      "Xtrain= [[1. 0.]\n",
      " [1. 0.]]\n",
      "Ytrain= [[1. 0. 0.]\n",
      " [0. 0. 1.]]\n"
     ]
    }
   ],
   "source": [
    "infile = codecs.open(\"./sampleText.txt\", \"r\", 'utf-8')\n",
    "text = infile.read()\n",
    "sents = nltk.sent_tokenize(text)\n",
    "tokenizer = Tokenizer(5000)  \n",
    "tokens = tokenizer.fit_on_texts(sents)\n",
    "vocab_size = len(tokenizer.word_counts) + 1\n",
    "#print ('vocab_size=', vocab_size)\n",
    "xs = []\n",
    "ys = []\n",
    "for sent in sents:\n",
    "    embedding = one_hot(sent, vocab_size)\n",
    "    triples = list(nltk.trigrams(embedding))\n",
    "    for x in triples:\n",
    "        left_word = x[0]\n",
    "        center_word = x[1]\n",
    "        right_word = x[2]\n",
    "        xs.append(center_word)\n",
    "        ys.append(left_word)\n",
    "        xs.append(center_word)\n",
    "        ys.append(right_word)\n",
    "\n",
    "xs=np.array(xs).reshape(-1,1)\n",
    "ys=np.array(ys).reshape(-1,1)\n",
    "ohe = OneHotEncoder()\n",
    "ohe2 = OneHotEncoder()\n",
    "X = ohe.fit_transform(xs).todense()\n",
    "#print (ohe.fit_transform(np.array(1).reshape(-1,1)))\n",
    "Y = ohe2.fit_transform(ys).todense()\n",
    "#print (X)\n",
    "Xtrain0, Xtest, Ytrain0, Ytest = train_test_split(X, Y, test_size=0.3, random_state=42)\n",
    "Xtrain, Xval, Ytrain, Yval = train_test_split(Xtrain0, Ytrain0, test_size=0.3, random_state=42)\n",
    "#print (Xtrain.shape)\n",
    "print ('Xtrain=', Xtrain)\n",
    "print ('Ytrain=', Ytrain)"
   ]
  },
  {
   "cell_type": "markdown",
   "metadata": {},
   "source": [
    "## 簡単なデータでモデルを動作させる例\n",
    "\n",
    "トレーニングを行うfitを動作させると以下のようになる.\n"
   ]
  },
  {
   "cell_type": "code",
   "execution_count": 15,
   "metadata": {},
   "outputs": [
    {
     "name": "stdout",
     "output_type": "stream",
     "text": [
      "Train on 2 samples, validate on 2 samples\n",
      "Epoch 1/2\n",
      "2/2 [==============================] - 0s 4ms/step - loss: 1.0530 - accuracy: 0.5000 - val_loss: 1.0712 - val_accuracy: 0.5000\n",
      "Epoch 2/2\n",
      "2/2 [==============================] - 0s 2ms/step - loss: 0.9423 - accuracy: 1.0000 - val_loss: 1.0737 - val_accuracy: 0.5000\n"
     ]
    }
   ],
   "source": [
    "BATCH_SIZE = 2\n",
    "NUM_EPOCHS = 2\n",
    "history = model.fit(Xtrain, Ytrain, batch_size=BATCH_SIZE,\n",
    "                    epochs=NUM_EPOCHS, verbose=1,\n",
    "                   validation_data = [Xval, Yval])"
   ]
  },
  {
   "cell_type": "code",
   "execution_count": null,
   "metadata": {},
   "outputs": [],
   "source": []
  },
  {
   "cell_type": "code",
   "execution_count": null,
   "metadata": {},
   "outputs": [],
   "source": []
  },
  {
   "cell_type": "code",
   "execution_count": null,
   "metadata": {},
   "outputs": [],
   "source": []
  }
 ],
 "metadata": {
  "kernelspec": {
   "display_name": "Python 3",
   "language": "python",
   "name": "python3"
  },
  "language_info": {
   "codemirror_mode": {
    "name": "ipython",
    "version": 3
   },
   "file_extension": ".py",
   "mimetype": "text/x-python",
   "name": "python",
   "nbconvert_exporter": "python",
   "pygments_lexer": "ipython3",
   "version": "3.8.2"
  }
 },
 "nbformat": 4,
 "nbformat_minor": 4
}
